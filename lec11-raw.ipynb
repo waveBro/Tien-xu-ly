{
 "cells": [
  {
   "cell_type": "code",
   "execution_count": 1,
   "id": "08127e1d-7315-4e6d-9ec3-18af92bbd631",
   "metadata": {},
   "outputs": [],
   "source": [
    "from datascience import *\n",
    "import numpy as np\n",
    "\n",
    "%matplotlib inline\n",
    "import matplotlib.pyplot as plots\n",
    "plots.style.use('fivethirtyeight')\n",
    "import warnings\n",
    "warnings.simplefilter(action='ignore',category=np.VisibleDeprecationWarning)"
   ]
  },
  {
   "cell_type": "markdown",
   "id": "d71cf964-b13e-4b65-bff4-d9c5b4d6845d",
   "metadata": {},
   "source": [
    "## Review"
   ]
  },
  {
   "cell_type": "code",
   "execution_count": 2,
   "id": "c4c21057-c546-4bb1-ba24-2a7900b0dcaf",
   "metadata": {},
   "outputs": [],
   "source": [
    "census = Table.read_table(\"data/nc-est2019-agesex-res.csv\")\n",
    "#census.show(6)"
   ]
  },
  {
   "cell_type": "markdown",
   "id": "b4e97bf5-4954-47eb-9ac3-433717c63eee",
   "metadata": {},
   "source": [
    "**Discussion Question**: I would like to write a function to allow a user to plot the estimate of the population for a given year (2010 through 2020) among a certain demographic (\"males\", \"females\", everyone).\n",
    "\n",
    "Which parts of the following code need to be generalized to write this function?"
   ]
  },
  {
   "cell_type": "code",
   "execution_count": null,
   "id": "2e5b03f1-cb54-4cae-a3de-7e393724bef5",
   "metadata": {},
   "outputs": [],
   "source": []
  },
  {
   "cell_type": "code",
   "execution_count": 3,
   "id": "5955afad",
   "metadata": {},
   "outputs": [
    {
     "ename": "IndentationError",
     "evalue": "unexpected indent (3142240063.py, line 2)",
     "output_type": "error",
     "traceback": [
      "\u001b[1;36m  Cell \u001b[1;32mIn[3], line 2\u001b[1;36m\u001b[0m\n\u001b[1;33m    \"\"\"\u001b[0m\n\u001b[1;37m    ^\u001b[0m\n\u001b[1;31mIndentationError\u001b[0m\u001b[1;31m:\u001b[0m unexpected indent\n"
     ]
    }
   ],
   "source": [
    "# def plot_population(year, sex):\n",
    "    \"\"\"\n",
    "    Plots the population estimate for a given year and demographic.\n",
    "\n",
    "    Parameters:\n",
    "    year (int): Year to select from available years in the dataset.\n",
    "    sex (str): Any valid demographic group from the 'SEX' column or \"everyone\".\n",
    "    \"\"\"\n",
    "   "
   ]
  },
  {
   "cell_type": "markdown",
   "id": "45eeaae4-739a-4949-a006-63768280e3fc",
   "metadata": {},
   "source": [
    "## New material"
   ]
  },
  {
   "cell_type": "markdown",
   "id": "0d52c916-f8e7-49f0-bbc0-68b3ef54ede7",
   "metadata": {},
   "source": [
    "### Cross-classify with **two-group columns**"
   ]
  },
  {
   "cell_type": "code",
   "execution_count": null,
   "id": "e905e69a-32d8-4cc9-a55b-88a71b800538",
   "metadata": {},
   "outputs": [],
   "source": [
    "cones = Table.read_table(\"data/cones.csv\")\n",
    "cones"
   ]
  },
  {
   "cell_type": "code",
   "execution_count": null,
   "id": "8e3a98d8-8705-43bc-999c-99111af7db93",
   "metadata": {},
   "outputs": [],
   "source": []
  },
  {
   "cell_type": "code",
   "execution_count": null,
   "id": "5eea4263-0279-4192-bf91-22c40b9a883f",
   "metadata": {},
   "outputs": [],
   "source": []
  },
  {
   "cell_type": "markdown",
   "id": "a63ef660-9d0a-4842-8aab-3cae3f57ad2d",
   "metadata": {},
   "source": [
    "### Cross-classify with **pivoting**"
   ]
  },
  {
   "cell_type": "code",
   "execution_count": null,
   "id": "c0bfaa57-fdf6-4a1b-b8f8-f9be1c920306",
   "metadata": {},
   "outputs": [],
   "source": []
  },
  {
   "cell_type": "code",
   "execution_count": null,
   "id": "1eb83718-3f47-4ac1-942a-41df7df19785",
   "metadata": {},
   "outputs": [],
   "source": []
  },
  {
   "cell_type": "markdown",
   "id": "51540b16-b631-4b33-9f6f-b6b59b14e8ac",
   "metadata": {},
   "source": [
    "_______"
   ]
  },
  {
   "cell_type": "markdown",
   "id": "5c05d6ae-5900-42d1-ba6b-cf5022702388",
   "metadata": {},
   "source": [
    "### Know when to use grouping vs. pivoting!"
   ]
  },
  {
   "cell_type": "code",
   "execution_count": null,
   "id": "0173024a-2aa3-46be-b2c5-0e336450a6da",
   "metadata": {},
   "outputs": [],
   "source": [
    "# https://corgis-edu.github.io/corgis/csv/skyscrapers/\n",
    "skyscrapers = Table.read_table('data/skyscrapers.csv')\n",
    "skyscrapers.show(6)"
   ]
  },
  {
   "cell_type": "markdown",
   "id": "48661050-a813-4055-a813-99eedb8a5676",
   "metadata": {},
   "source": [
    "#### **Task:** \n",
    "- For each city, find the tallest building per material, as of 2016."
   ]
  },
  {
   "cell_type": "code",
   "execution_count": null,
   "id": "57873ba2-ce71-4c62-bc44-49e4ec543652",
   "metadata": {},
   "outputs": [],
   "source": []
  },
  {
   "cell_type": "markdown",
   "id": "aad51872-da3f-4611-8e58-8d9ee3ca7667",
   "metadata": {},
   "source": [
    "#### **Task:** \n",
    "- For each city, find the height difference between the tallest steel building and the tallest concrete building."
   ]
  },
  {
   "cell_type": "code",
   "execution_count": null,
   "id": "4166d77a-0c0b-4b86-a060-604c1eb957fc",
   "metadata": {},
   "outputs": [],
   "source": []
  },
  {
   "cell_type": "code",
   "execution_count": null,
   "id": "e6d7c455-41e2-4027-bd52-d361d7fb5c1f",
   "metadata": {},
   "outputs": [],
   "source": []
  },
  {
   "cell_type": "code",
   "execution_count": null,
   "id": "cf0ae371-fbb1-4154-9e40-794ca698c664",
   "metadata": {},
   "outputs": [],
   "source": []
  },
  {
   "cell_type": "markdown",
   "id": "b42df690-4639-4e22-9660-bea8148ef510",
   "metadata": {},
   "source": [
    "**Discussion Question**: I would like to make a visualization of the distribution of material types of buildings among each of San Francisco, New York and Chicago. Which cross-classification method is best for this? \n",
    "- *Hint:* Which cross classification method produces a table which can be used to create the plot?"
   ]
  },
  {
   "cell_type": "markdown",
   "id": "c5bca585-3357-4ed4-9062-35787f493477",
   "metadata": {},
   "source": [
    "_______"
   ]
  },
  {
   "cell_type": "markdown",
   "id": "a144681a-c773-4f09-8b2e-93596ce9de87",
   "metadata": {},
   "source": [
    "### Combine information in different tables via **joining**"
   ]
  },
  {
   "cell_type": "code",
   "execution_count": null,
   "id": "1f356f60-6427-46df-b14e-9a7b5471a248",
   "metadata": {},
   "outputs": [],
   "source": []
  },
  {
   "cell_type": "code",
   "execution_count": null,
   "id": "630a00e7-f630-48ba-844d-72be10054822",
   "metadata": {},
   "outputs": [],
   "source": []
  },
  {
   "cell_type": "code",
   "execution_count": null,
   "id": "41d7278e-0364-4789-851e-2726894d16fe",
   "metadata": {},
   "outputs": [],
   "source": []
  },
  {
   "cell_type": "code",
   "execution_count": null,
   "id": "4eefaecf-27f8-4707-86ec-104c04e68e3c",
   "metadata": {},
   "outputs": [],
   "source": []
  }
 ],
 "metadata": {
  "kernelspec": {
   "display_name": "Python 3 (ipykernel)",
   "language": "python",
   "name": "python3"
  },
  "language_info": {
   "codemirror_mode": {
    "name": "ipython",
    "version": 3
   },
   "file_extension": ".py",
   "mimetype": "text/x-python",
   "name": "python",
   "nbconvert_exporter": "python",
   "pygments_lexer": "ipython3",
   "version": "3.10.9"
  }
 },
 "nbformat": 4,
 "nbformat_minor": 5
}
